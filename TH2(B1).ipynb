{
 "cells": [
  {
   "cell_type": "code",
   "execution_count": 8,
   "id": "1f2dbe2b",
   "metadata": {
    "scrolled": true
   },
   "outputs": [
    {
     "data": {
      "text/html": [
       "<div>\n",
       "<style scoped>\n",
       "    .dataframe tbody tr th:only-of-type {\n",
       "        vertical-align: middle;\n",
       "    }\n",
       "\n",
       "    .dataframe tbody tr th {\n",
       "        vertical-align: top;\n",
       "    }\n",
       "\n",
       "    .dataframe thead th {\n",
       "        text-align: right;\n",
       "    }\n",
       "</style>\n",
       "<table border=\"1\" class=\"dataframe\">\n",
       "  <thead>\n",
       "    <tr style=\"text-align: right;\">\n",
       "      <th></th>\n",
       "      <th>ENO</th>\n",
       "      <th>Age</th>\n",
       "      <th>Dept</th>\n",
       "      <th>Gender</th>\n",
       "      <th>Skill</th>\n",
       "      <th>WorkingYear</th>\n",
       "      <th>Salary</th>\n",
       "      <th>TrainedYear</th>\n",
       "      <th>OverseaProject</th>\n",
       "    </tr>\n",
       "  </thead>\n",
       "  <tbody>\n",
       "    <tr>\n",
       "      <th>0</th>\n",
       "      <td>E001</td>\n",
       "      <td>29.0</td>\n",
       "      <td>HR</td>\n",
       "      <td>Female</td>\n",
       "      <td>SQL</td>\n",
       "      <td>3.0</td>\n",
       "      <td>825</td>\n",
       "      <td>3.0</td>\n",
       "      <td>No</td>\n",
       "    </tr>\n",
       "    <tr>\n",
       "      <th>1</th>\n",
       "      <td>E002</td>\n",
       "      <td>39.0</td>\n",
       "      <td>IT</td>\n",
       "      <td>Male</td>\n",
       "      <td>Java</td>\n",
       "      <td>7.0</td>\n",
       "      <td>1450</td>\n",
       "      <td>7.0</td>\n",
       "      <td>Yes</td>\n",
       "    </tr>\n",
       "    <tr>\n",
       "      <th>2</th>\n",
       "      <td>E003</td>\n",
       "      <td>NaN</td>\n",
       "      <td>IT</td>\n",
       "      <td>Male</td>\n",
       "      <td>SQL</td>\n",
       "      <td>6.0</td>\n",
       "      <td>1236</td>\n",
       "      <td>NaN</td>\n",
       "      <td>Yes</td>\n",
       "    </tr>\n",
       "    <tr>\n",
       "      <th>3</th>\n",
       "      <td>E004</td>\n",
       "      <td>38.0</td>\n",
       "      <td>HR</td>\n",
       "      <td>Female</td>\n",
       "      <td>C#</td>\n",
       "      <td>6.0</td>\n",
       "      <td>1324</td>\n",
       "      <td>5.0</td>\n",
       "      <td>No</td>\n",
       "    </tr>\n",
       "    <tr>\n",
       "      <th>4</th>\n",
       "      <td>E005</td>\n",
       "      <td>28.0</td>\n",
       "      <td>IT</td>\n",
       "      <td>Male</td>\n",
       "      <td>R</td>\n",
       "      <td>2.0</td>\n",
       "      <td>895</td>\n",
       "      <td>3.0</td>\n",
       "      <td>No</td>\n",
       "    </tr>\n",
       "    <tr>\n",
       "      <th>5</th>\n",
       "      <td>E006</td>\n",
       "      <td>36.0</td>\n",
       "      <td>MA</td>\n",
       "      <td>Male</td>\n",
       "      <td>C#</td>\n",
       "      <td>5.0</td>\n",
       "      <td>943</td>\n",
       "      <td>3.0</td>\n",
       "      <td>No</td>\n",
       "    </tr>\n",
       "    <tr>\n",
       "      <th>6</th>\n",
       "      <td>E007</td>\n",
       "      <td>27.0</td>\n",
       "      <td>NaN</td>\n",
       "      <td>Male</td>\n",
       "      <td>SQL</td>\n",
       "      <td>2.0</td>\n",
       "      <td>1154</td>\n",
       "      <td>5.0</td>\n",
       "      <td>No</td>\n",
       "    </tr>\n",
       "    <tr>\n",
       "      <th>7</th>\n",
       "      <td>E008</td>\n",
       "      <td>28.0</td>\n",
       "      <td>MA</td>\n",
       "      <td>Female</td>\n",
       "      <td>R</td>\n",
       "      <td>NaN</td>\n",
       "      <td>1356</td>\n",
       "      <td>6.0</td>\n",
       "      <td>Yes</td>\n",
       "    </tr>\n",
       "    <tr>\n",
       "      <th>8</th>\n",
       "      <td>E009</td>\n",
       "      <td>37.0</td>\n",
       "      <td>IT</td>\n",
       "      <td>Male</td>\n",
       "      <td>Java</td>\n",
       "      <td>7.0</td>\n",
       "      <td>1456</td>\n",
       "      <td>5.0</td>\n",
       "      <td>No</td>\n",
       "    </tr>\n",
       "    <tr>\n",
       "      <th>9</th>\n",
       "      <td>E010</td>\n",
       "      <td>37.0</td>\n",
       "      <td>IT</td>\n",
       "      <td>NaN</td>\n",
       "      <td>C#</td>\n",
       "      <td>6.0</td>\n",
       "      <td>892</td>\n",
       "      <td>3.0</td>\n",
       "      <td>No</td>\n",
       "    </tr>\n",
       "    <tr>\n",
       "      <th>10</th>\n",
       "      <td>E011</td>\n",
       "      <td>34.0</td>\n",
       "      <td>MA</td>\n",
       "      <td>Male</td>\n",
       "      <td>SQL</td>\n",
       "      <td>6.0</td>\n",
       "      <td>1453</td>\n",
       "      <td>4.0</td>\n",
       "      <td>Yes</td>\n",
       "    </tr>\n",
       "    <tr>\n",
       "      <th>11</th>\n",
       "      <td>E012</td>\n",
       "      <td>NaN</td>\n",
       "      <td>HR</td>\n",
       "      <td>Male</td>\n",
       "      <td>C#</td>\n",
       "      <td>5.0</td>\n",
       "      <td>852</td>\n",
       "      <td>2.0</td>\n",
       "      <td>No</td>\n",
       "    </tr>\n",
       "    <tr>\n",
       "      <th>12</th>\n",
       "      <td>E013</td>\n",
       "      <td>29.0</td>\n",
       "      <td>HR</td>\n",
       "      <td>Female</td>\n",
       "      <td>R</td>\n",
       "      <td>5.0</td>\n",
       "      <td>1183</td>\n",
       "      <td>5.0</td>\n",
       "      <td>Yes</td>\n",
       "    </tr>\n",
       "    <tr>\n",
       "      <th>13</th>\n",
       "      <td>E014</td>\n",
       "      <td>28.0</td>\n",
       "      <td>NaN</td>\n",
       "      <td>Female</td>\n",
       "      <td>C#</td>\n",
       "      <td>4.0</td>\n",
       "      <td>766</td>\n",
       "      <td>2.0</td>\n",
       "      <td>No</td>\n",
       "    </tr>\n",
       "    <tr>\n",
       "      <th>14</th>\n",
       "      <td>E015</td>\n",
       "      <td>24.0</td>\n",
       "      <td>IT</td>\n",
       "      <td>Male</td>\n",
       "      <td>SQL</td>\n",
       "      <td>1.0</td>\n",
       "      <td>826</td>\n",
       "      <td>3.0</td>\n",
       "      <td>No</td>\n",
       "    </tr>\n",
       "    <tr>\n",
       "      <th>15</th>\n",
       "      <td>E016</td>\n",
       "      <td>26.0</td>\n",
       "      <td>HR</td>\n",
       "      <td>Female</td>\n",
       "      <td>R</td>\n",
       "      <td>2.0</td>\n",
       "      <td>815</td>\n",
       "      <td>2.0</td>\n",
       "      <td>No</td>\n",
       "    </tr>\n",
       "    <tr>\n",
       "      <th>16</th>\n",
       "      <td>E017</td>\n",
       "      <td>28.0</td>\n",
       "      <td>IT</td>\n",
       "      <td>Male</td>\n",
       "      <td>Java</td>\n",
       "      <td>3.0</td>\n",
       "      <td>1257</td>\n",
       "      <td>5.0</td>\n",
       "      <td>Yes</td>\n",
       "    </tr>\n",
       "    <tr>\n",
       "      <th>17</th>\n",
       "      <td>E018</td>\n",
       "      <td>29.0</td>\n",
       "      <td>IT</td>\n",
       "      <td>Male</td>\n",
       "      <td>SQL</td>\n",
       "      <td>5.0</td>\n",
       "      <td>1316</td>\n",
       "      <td>5.0</td>\n",
       "      <td>Yes</td>\n",
       "    </tr>\n",
       "    <tr>\n",
       "      <th>18</th>\n",
       "      <td>E019</td>\n",
       "      <td>31.0</td>\n",
       "      <td>HR</td>\n",
       "      <td>Female</td>\n",
       "      <td>C#</td>\n",
       "      <td>4.0</td>\n",
       "      <td>1128</td>\n",
       "      <td>NaN</td>\n",
       "      <td>No</td>\n",
       "    </tr>\n",
       "    <tr>\n",
       "      <th>19</th>\n",
       "      <td>E020</td>\n",
       "      <td>23.0</td>\n",
       "      <td>IT</td>\n",
       "      <td>Male</td>\n",
       "      <td>R</td>\n",
       "      <td>1.0</td>\n",
       "      <td>894</td>\n",
       "      <td>2.0</td>\n",
       "      <td>No</td>\n",
       "    </tr>\n",
       "    <tr>\n",
       "      <th>20</th>\n",
       "      <td>E021</td>\n",
       "      <td>23.0</td>\n",
       "      <td>IT</td>\n",
       "      <td>Male</td>\n",
       "      <td>C#</td>\n",
       "      <td>2.0</td>\n",
       "      <td>1148</td>\n",
       "      <td>4.0</td>\n",
       "      <td>No</td>\n",
       "    </tr>\n",
       "    <tr>\n",
       "      <th>21</th>\n",
       "      <td>E022</td>\n",
       "      <td>34.0</td>\n",
       "      <td>IT</td>\n",
       "      <td>Male</td>\n",
       "      <td>SQL</td>\n",
       "      <td>5.0</td>\n",
       "      <td>1313</td>\n",
       "      <td>5.0</td>\n",
       "      <td>No</td>\n",
       "    </tr>\n",
       "    <tr>\n",
       "      <th>22</th>\n",
       "      <td>E023</td>\n",
       "      <td>27.0</td>\n",
       "      <td>MA</td>\n",
       "      <td>Female</td>\n",
       "      <td>R</td>\n",
       "      <td>5.0</td>\n",
       "      <td>1454</td>\n",
       "      <td>6.0</td>\n",
       "      <td>Yes</td>\n",
       "    </tr>\n",
       "    <tr>\n",
       "      <th>23</th>\n",
       "      <td>E024</td>\n",
       "      <td>30.0</td>\n",
       "      <td>IT</td>\n",
       "      <td>Male</td>\n",
       "      <td>Java</td>\n",
       "      <td>5.0</td>\n",
       "      <td>1448</td>\n",
       "      <td>NaN</td>\n",
       "      <td>No</td>\n",
       "    </tr>\n",
       "    <tr>\n",
       "      <th>24</th>\n",
       "      <td>E025</td>\n",
       "      <td>22.0</td>\n",
       "      <td>IT</td>\n",
       "      <td>Male</td>\n",
       "      <td>SQL</td>\n",
       "      <td>2.0</td>\n",
       "      <td>896</td>\n",
       "      <td>3.0</td>\n",
       "      <td>No</td>\n",
       "    </tr>\n",
       "    <tr>\n",
       "      <th>25</th>\n",
       "      <td>E026</td>\n",
       "      <td>32.0</td>\n",
       "      <td>MA</td>\n",
       "      <td>Male</td>\n",
       "      <td>C#</td>\n",
       "      <td>6.0</td>\n",
       "      <td>1258</td>\n",
       "      <td>4.0</td>\n",
       "      <td>Yes</td>\n",
       "    </tr>\n",
       "    <tr>\n",
       "      <th>26</th>\n",
       "      <td>E027</td>\n",
       "      <td>29.0</td>\n",
       "      <td>HR</td>\n",
       "      <td>Male</td>\n",
       "      <td>R</td>\n",
       "      <td>4.0</td>\n",
       "      <td>856</td>\n",
       "      <td>3.0</td>\n",
       "      <td>No</td>\n",
       "    </tr>\n",
       "    <tr>\n",
       "      <th>27</th>\n",
       "      <td>E028</td>\n",
       "      <td>28.0</td>\n",
       "      <td>HR</td>\n",
       "      <td>Female</td>\n",
       "      <td>C#</td>\n",
       "      <td>3.0</td>\n",
       "      <td>1189</td>\n",
       "      <td>5.0</td>\n",
       "      <td>Yes</td>\n",
       "    </tr>\n",
       "    <tr>\n",
       "      <th>28</th>\n",
       "      <td>E029</td>\n",
       "      <td>25.0</td>\n",
       "      <td>IT</td>\n",
       "      <td>Female</td>\n",
       "      <td>SQL</td>\n",
       "      <td>4.0</td>\n",
       "      <td>767</td>\n",
       "      <td>2.0</td>\n",
       "      <td>No</td>\n",
       "    </tr>\n",
       "    <tr>\n",
       "      <th>29</th>\n",
       "      <td>E030</td>\n",
       "      <td>29.0</td>\n",
       "      <td>IT</td>\n",
       "      <td>Male</td>\n",
       "      <td>R</td>\n",
       "      <td>2.0</td>\n",
       "      <td>813</td>\n",
       "      <td>2.0</td>\n",
       "      <td>No</td>\n",
       "    </tr>\n",
       "    <tr>\n",
       "      <th>30</th>\n",
       "      <td>E031</td>\n",
       "      <td>31.0</td>\n",
       "      <td>IT</td>\n",
       "      <td>Male</td>\n",
       "      <td>SQL</td>\n",
       "      <td>6.0</td>\n",
       "      <td>1254</td>\n",
       "      <td>4.0</td>\n",
       "      <td>No</td>\n",
       "    </tr>\n",
       "    <tr>\n",
       "      <th>31</th>\n",
       "      <td>E032</td>\n",
       "      <td>28.0</td>\n",
       "      <td>HR</td>\n",
       "      <td>Female</td>\n",
       "      <td>R</td>\n",
       "      <td>5.0</td>\n",
       "      <td>976</td>\n",
       "      <td>3.0</td>\n",
       "      <td>No</td>\n",
       "    </tr>\n",
       "    <tr>\n",
       "      <th>32</th>\n",
       "      <td>E033</td>\n",
       "      <td>28.0</td>\n",
       "      <td>IT</td>\n",
       "      <td>Male</td>\n",
       "      <td>Java</td>\n",
       "      <td>6.0</td>\n",
       "      <td>1228</td>\n",
       "      <td>4.0</td>\n",
       "      <td>Yes</td>\n",
       "    </tr>\n",
       "    <tr>\n",
       "      <th>33</th>\n",
       "      <td>E034</td>\n",
       "      <td>29.0</td>\n",
       "      <td>IT</td>\n",
       "      <td>Male</td>\n",
       "      <td>SQL</td>\n",
       "      <td>6.0</td>\n",
       "      <td>1353</td>\n",
       "      <td>5.0</td>\n",
       "      <td>Yes</td>\n",
       "    </tr>\n",
       "    <tr>\n",
       "      <th>34</th>\n",
       "      <td>E035</td>\n",
       "      <td>31.0</td>\n",
       "      <td>IT</td>\n",
       "      <td>Female</td>\n",
       "      <td>C#</td>\n",
       "      <td>4.0</td>\n",
       "      <td>1349</td>\n",
       "      <td>5.0</td>\n",
       "      <td>No</td>\n",
       "    </tr>\n",
       "    <tr>\n",
       "      <th>35</th>\n",
       "      <td>E036</td>\n",
       "      <td>22.0</td>\n",
       "      <td>IT</td>\n",
       "      <td>Male</td>\n",
       "      <td>R</td>\n",
       "      <td>1.0</td>\n",
       "      <td>894</td>\n",
       "      <td>3.0</td>\n",
       "      <td>No</td>\n",
       "    </tr>\n",
       "    <tr>\n",
       "      <th>36</th>\n",
       "      <td>E037</td>\n",
       "      <td>31.0</td>\n",
       "      <td>MA</td>\n",
       "      <td>Male</td>\n",
       "      <td>C#</td>\n",
       "      <td>5.0</td>\n",
       "      <td>1253</td>\n",
       "      <td>4.0</td>\n",
       "      <td>No</td>\n",
       "    </tr>\n",
       "    <tr>\n",
       "      <th>37</th>\n",
       "      <td>E038</td>\n",
       "      <td>34.0</td>\n",
       "      <td>IT</td>\n",
       "      <td>Male</td>\n",
       "      <td>SQL</td>\n",
       "      <td>7.0</td>\n",
       "      <td>1342</td>\n",
       "      <td>5.0</td>\n",
       "      <td>No</td>\n",
       "    </tr>\n",
       "    <tr>\n",
       "      <th>38</th>\n",
       "      <td>E039</td>\n",
       "      <td>27.0</td>\n",
       "      <td>MA</td>\n",
       "      <td>Female</td>\n",
       "      <td>R</td>\n",
       "      <td>4.0</td>\n",
       "      <td>1457</td>\n",
       "      <td>6.0</td>\n",
       "      <td>Yes</td>\n",
       "    </tr>\n",
       "    <tr>\n",
       "      <th>39</th>\n",
       "      <td>E040</td>\n",
       "      <td>30.0</td>\n",
       "      <td>IT</td>\n",
       "      <td>Male</td>\n",
       "      <td>Java</td>\n",
       "      <td>3.0</td>\n",
       "      <td>1416</td>\n",
       "      <td>5.0</td>\n",
       "      <td>No</td>\n",
       "    </tr>\n",
       "    <tr>\n",
       "      <th>40</th>\n",
       "      <td>E041</td>\n",
       "      <td>22.0</td>\n",
       "      <td>IT</td>\n",
       "      <td>Male</td>\n",
       "      <td>SQL</td>\n",
       "      <td>2.0</td>\n",
       "      <td>789</td>\n",
       "      <td>2.0</td>\n",
       "      <td>No</td>\n",
       "    </tr>\n",
       "    <tr>\n",
       "      <th>41</th>\n",
       "      <td>E042</td>\n",
       "      <td>32.0</td>\n",
       "      <td>MA</td>\n",
       "      <td>Male</td>\n",
       "      <td>C#</td>\n",
       "      <td>5.0</td>\n",
       "      <td>1214</td>\n",
       "      <td>4.0</td>\n",
       "      <td>Yes</td>\n",
       "    </tr>\n",
       "    <tr>\n",
       "      <th>42</th>\n",
       "      <td>E043</td>\n",
       "      <td>23.0</td>\n",
       "      <td>HR</td>\n",
       "      <td>Male</td>\n",
       "      <td>R</td>\n",
       "      <td>3.0</td>\n",
       "      <td>912</td>\n",
       "      <td>3.0</td>\n",
       "      <td>No</td>\n",
       "    </tr>\n",
       "    <tr>\n",
       "      <th>43</th>\n",
       "      <td>E044</td>\n",
       "      <td>28.0</td>\n",
       "      <td>HR</td>\n",
       "      <td>Female</td>\n",
       "      <td>C#</td>\n",
       "      <td>5.0</td>\n",
       "      <td>1386</td>\n",
       "      <td>5.0</td>\n",
       "      <td>Yes</td>\n",
       "    </tr>\n",
       "    <tr>\n",
       "      <th>44</th>\n",
       "      <td>E045</td>\n",
       "      <td>25.0</td>\n",
       "      <td>IT</td>\n",
       "      <td>Female</td>\n",
       "      <td>SQL</td>\n",
       "      <td>4.0</td>\n",
       "      <td>1412</td>\n",
       "      <td>5.0</td>\n",
       "      <td>No</td>\n",
       "    </tr>\n",
       "    <tr>\n",
       "      <th>45</th>\n",
       "      <td>E046</td>\n",
       "      <td>24.0</td>\n",
       "      <td>IT</td>\n",
       "      <td>Male</td>\n",
       "      <td>R</td>\n",
       "      <td>2.0</td>\n",
       "      <td>1219</td>\n",
       "      <td>4.0</td>\n",
       "      <td>No</td>\n",
       "    </tr>\n",
       "  </tbody>\n",
       "</table>\n",
       "</div>"
      ],
      "text/plain": [
       "     ENO   Age Dept  Gender Skill  WorkingYear  Salary  TrainedYear  \\\n",
       "0   E001  29.0   HR  Female   SQL          3.0     825          3.0   \n",
       "1   E002  39.0   IT    Male  Java          7.0    1450          7.0   \n",
       "2   E003   NaN   IT    Male   SQL          6.0    1236          NaN   \n",
       "3   E004  38.0   HR  Female    C#          6.0    1324          5.0   \n",
       "4   E005  28.0   IT    Male     R          2.0     895          3.0   \n",
       "5   E006  36.0   MA    Male    C#          5.0     943          3.0   \n",
       "6   E007  27.0  NaN    Male   SQL          2.0    1154          5.0   \n",
       "7   E008  28.0   MA  Female     R          NaN    1356          6.0   \n",
       "8   E009  37.0   IT    Male  Java          7.0    1456          5.0   \n",
       "9   E010  37.0   IT     NaN    C#          6.0     892          3.0   \n",
       "10  E011  34.0   MA    Male   SQL          6.0    1453          4.0   \n",
       "11  E012   NaN   HR    Male    C#          5.0     852          2.0   \n",
       "12  E013  29.0   HR  Female     R          5.0    1183          5.0   \n",
       "13  E014  28.0  NaN  Female    C#          4.0     766          2.0   \n",
       "14  E015  24.0   IT    Male   SQL          1.0     826          3.0   \n",
       "15  E016  26.0   HR  Female     R          2.0     815          2.0   \n",
       "16  E017  28.0   IT    Male  Java          3.0    1257          5.0   \n",
       "17  E018  29.0   IT    Male   SQL          5.0    1316          5.0   \n",
       "18  E019  31.0   HR  Female    C#          4.0    1128          NaN   \n",
       "19  E020  23.0   IT    Male     R          1.0     894          2.0   \n",
       "20  E021  23.0   IT    Male    C#          2.0    1148          4.0   \n",
       "21  E022  34.0   IT    Male   SQL          5.0    1313          5.0   \n",
       "22  E023  27.0   MA  Female     R          5.0    1454          6.0   \n",
       "23  E024  30.0   IT    Male  Java          5.0    1448          NaN   \n",
       "24  E025  22.0   IT    Male   SQL          2.0     896          3.0   \n",
       "25  E026  32.0   MA    Male    C#          6.0    1258          4.0   \n",
       "26  E027  29.0   HR    Male     R          4.0     856          3.0   \n",
       "27  E028  28.0   HR  Female    C#          3.0    1189          5.0   \n",
       "28  E029  25.0   IT  Female   SQL          4.0     767          2.0   \n",
       "29  E030  29.0   IT    Male     R          2.0     813          2.0   \n",
       "30  E031  31.0   IT    Male   SQL          6.0    1254          4.0   \n",
       "31  E032  28.0   HR  Female     R          5.0     976          3.0   \n",
       "32  E033  28.0   IT    Male  Java          6.0    1228          4.0   \n",
       "33  E034  29.0   IT    Male   SQL          6.0    1353          5.0   \n",
       "34  E035  31.0   IT  Female    C#          4.0    1349          5.0   \n",
       "35  E036  22.0   IT    Male     R          1.0     894          3.0   \n",
       "36  E037  31.0   MA    Male    C#          5.0    1253          4.0   \n",
       "37  E038  34.0   IT    Male   SQL          7.0    1342          5.0   \n",
       "38  E039  27.0   MA  Female     R          4.0    1457          6.0   \n",
       "39  E040  30.0   IT    Male  Java          3.0    1416          5.0   \n",
       "40  E041  22.0   IT    Male   SQL          2.0     789          2.0   \n",
       "41  E042  32.0   MA    Male    C#          5.0    1214          4.0   \n",
       "42  E043  23.0   HR    Male     R          3.0     912          3.0   \n",
       "43  E044  28.0   HR  Female    C#          5.0    1386          5.0   \n",
       "44  E045  25.0   IT  Female   SQL          4.0    1412          5.0   \n",
       "45  E046  24.0   IT    Male     R          2.0    1219          4.0   \n",
       "\n",
       "   OverseaProject  \n",
       "0              No  \n",
       "1             Yes  \n",
       "2             Yes  \n",
       "3              No  \n",
       "4              No  \n",
       "5              No  \n",
       "6              No  \n",
       "7             Yes  \n",
       "8              No  \n",
       "9              No  \n",
       "10            Yes  \n",
       "11             No  \n",
       "12            Yes  \n",
       "13             No  \n",
       "14             No  \n",
       "15             No  \n",
       "16            Yes  \n",
       "17            Yes  \n",
       "18             No  \n",
       "19             No  \n",
       "20             No  \n",
       "21             No  \n",
       "22            Yes  \n",
       "23             No  \n",
       "24             No  \n",
       "25            Yes  \n",
       "26             No  \n",
       "27            Yes  \n",
       "28             No  \n",
       "29             No  \n",
       "30             No  \n",
       "31             No  \n",
       "32            Yes  \n",
       "33            Yes  \n",
       "34             No  \n",
       "35             No  \n",
       "36             No  \n",
       "37             No  \n",
       "38            Yes  \n",
       "39             No  \n",
       "40             No  \n",
       "41            Yes  \n",
       "42             No  \n",
       "43            Yes  \n",
       "44             No  \n",
       "45             No  "
      ]
     },
     "execution_count": 8,
     "metadata": {},
     "output_type": "execute_result"
    }
   ],
   "source": [
    "import pandas as pd\n",
    "import numpy as np\n",
    "import matplotlib.pyplot as plt\n",
    "import seaborn as sns\n",
    "# đọc file ,hiển thị dữ liệu\n",
    "df = pd.read_excel ('JOB_INFO.xlsx')\n",
    "df\n"
   ]
  },
  {
   "cell_type": "code",
   "execution_count": 2,
   "id": "c51617dd",
   "metadata": {},
   "outputs": [
    {
     "data": {
      "text/plain": [
       "ENO            46\n",
       "Age            44\n",
       "Dept           44\n",
       "Gender         45\n",
       "Skill          46\n",
       "WorkingYear    45\n",
       "Salary         46\n",
       "TrainedYear    43\n",
       "dtype: int64"
      ]
     },
     "execution_count": 2,
     "metadata": {},
     "output_type": "execute_result"
    }
   ],
   "source": [
    "# thống kê trường bất kì\n",
    "df[['ENO','Age','Dept','Gender','Skill','WorkingYear','Salary','TrainedYear']].count() \n"
   ]
  },
  {
   "cell_type": "code",
   "execution_count": 22,
   "id": "50305387",
   "metadata": {},
   "outputs": [
    {
     "data": {
      "text/plain": [
       "Age              28.977273\n",
       "WorkingYear       4.133333\n",
       "Salary         1143.847826\n",
       "TrainedYear       3.976744\n",
       "dtype: float64"
      ]
     },
     "execution_count": 22,
     "metadata": {},
     "output_type": "execute_result"
    }
   ],
   "source": [
    "# Tính TB\n",
    "df[['Age','WorkingYear','Salary','TrainedYear']].mean()\n",
    "\n"
   ]
  },
  {
   "cell_type": "code",
   "execution_count": 21,
   "id": "418d2ebc",
   "metadata": {},
   "outputs": [
    {
     "data": {
      "text/plain": [
       "Age              4.406595\n",
       "WorkingYear      1.739906\n",
       "Salary         238.132360\n",
       "TrainedYear      1.318158\n",
       "dtype: float64"
      ]
     },
     "execution_count": 21,
     "metadata": {},
     "output_type": "execute_result"
    }
   ],
   "source": [
    "# Tính độ lệch của dữ liệu \n",
    "df[['Age','WorkingYear','Salary','TrainedYear']].std() # "
   ]
  },
  {
   "cell_type": "code",
   "execution_count": 25,
   "id": "2ce25749",
   "metadata": {},
   "outputs": [
    {
     "data": {
      "text/plain": [
       "Age              28.5\n",
       "WorkingYear       4.0\n",
       "Salary         1216.5\n",
       "TrainedYear       4.0\n",
       "Name: 0.5, dtype: float64"
      ]
     },
     "execution_count": 25,
     "metadata": {},
     "output_type": "execute_result"
    }
   ],
   "source": [
    "# tìm giá trị tứ vị\n",
    "df[['Age','WorkingYear','Salary','TrainedYear']].quantile(.5)\n",
    "\n"
   ]
  },
  {
   "cell_type": "code",
   "execution_count": 3,
   "id": "7c1b31a7",
   "metadata": {},
   "outputs": [
    {
     "data": {
      "text/plain": [
       "Age             26.75\n",
       "WorkingYear      3.00\n",
       "Salary         894.25\n",
       "TrainedYear      3.00\n",
       "Name: 0.25, dtype: float64"
      ]
     },
     "execution_count": 3,
     "metadata": {},
     "output_type": "execute_result"
    }
   ],
   "source": [
    "df[['Age','WorkingYear','Salary','TrainedYear']].quantile(.25)"
   ]
  },
  {
   "cell_type": "code",
   "execution_count": 4,
   "id": "b18f1355",
   "metadata": {},
   "outputs": [
    {
     "data": {
      "text/plain": [
       "Age              31.00\n",
       "WorkingYear       5.00\n",
       "Salary         1347.25\n",
       "TrainedYear       5.00\n",
       "Name: 0.75, dtype: float64"
      ]
     },
     "execution_count": 4,
     "metadata": {},
     "output_type": "execute_result"
    }
   ],
   "source": [
    "df[['Age','WorkingYear','Salary','TrainedYear']].quantile(.75)"
   ]
  },
  {
   "cell_type": "code",
   "execution_count": 5,
   "id": "f1355b97",
   "metadata": {},
   "outputs": [
    {
     "data": {
      "text/plain": [
       "Age             22.0\n",
       "WorkingYear      1.0\n",
       "Salary         766.0\n",
       "TrainedYear      2.0\n",
       "dtype: float64"
      ]
     },
     "execution_count": 5,
     "metadata": {},
     "output_type": "execute_result"
    }
   ],
   "source": [
    "df[['Age','WorkingYear','Salary','TrainedYear']].min()"
   ]
  },
  {
   "cell_type": "code",
   "execution_count": 5,
   "id": "5262f610",
   "metadata": {},
   "outputs": [
    {
     "data": {
      "text/plain": [
       "Age              39.0\n",
       "WorkingYear       7.0\n",
       "Salary         1457.0\n",
       "TrainedYear       7.0\n",
       "dtype: float64"
      ]
     },
     "execution_count": 5,
     "metadata": {},
     "output_type": "execute_result"
    }
   ],
   "source": [
    "df[['Age','WorkingYear','Salary','TrainedYear']].max()"
   ]
  },
  {
   "cell_type": "code",
   "execution_count": 7,
   "id": "b4b49306",
   "metadata": {},
   "outputs": [
    {
     "data": {
      "text/html": [
       "<div>\n",
       "<style scoped>\n",
       "    .dataframe tbody tr th:only-of-type {\n",
       "        vertical-align: middle;\n",
       "    }\n",
       "\n",
       "    .dataframe tbody tr th {\n",
       "        vertical-align: top;\n",
       "    }\n",
       "\n",
       "    .dataframe thead tr th {\n",
       "        text-align: left;\n",
       "    }\n",
       "\n",
       "    .dataframe thead tr:last-of-type th {\n",
       "        text-align: right;\n",
       "    }\n",
       "</style>\n",
       "<table border=\"1\" class=\"dataframe\">\n",
       "  <thead>\n",
       "    <tr>\n",
       "      <th></th>\n",
       "      <th colspan=\"8\" halign=\"left\">Age</th>\n",
       "      <th colspan=\"8\" halign=\"left\">Salary</th>\n",
       "    </tr>\n",
       "    <tr>\n",
       "      <th></th>\n",
       "      <th>count</th>\n",
       "      <th>mean</th>\n",
       "      <th>std</th>\n",
       "      <th>min</th>\n",
       "      <th>25%</th>\n",
       "      <th>50%</th>\n",
       "      <th>75%</th>\n",
       "      <th>max</th>\n",
       "      <th>count</th>\n",
       "      <th>mean</th>\n",
       "      <th>std</th>\n",
       "      <th>min</th>\n",
       "      <th>25%</th>\n",
       "      <th>50%</th>\n",
       "      <th>75%</th>\n",
       "      <th>max</th>\n",
       "    </tr>\n",
       "    <tr>\n",
       "      <th>Skill</th>\n",
       "      <th></th>\n",
       "      <th></th>\n",
       "      <th></th>\n",
       "      <th></th>\n",
       "      <th></th>\n",
       "      <th></th>\n",
       "      <th></th>\n",
       "      <th></th>\n",
       "      <th></th>\n",
       "      <th></th>\n",
       "      <th></th>\n",
       "      <th></th>\n",
       "      <th></th>\n",
       "      <th></th>\n",
       "      <th></th>\n",
       "      <th></th>\n",
       "    </tr>\n",
       "  </thead>\n",
       "  <tbody>\n",
       "    <tr>\n",
       "      <th>C#</th>\n",
       "      <td>12.0</td>\n",
       "      <td>31.250000</td>\n",
       "      <td>4.287932</td>\n",
       "      <td>23.0</td>\n",
       "      <td>28.0</td>\n",
       "      <td>31.0</td>\n",
       "      <td>33.00</td>\n",
       "      <td>38.0</td>\n",
       "      <td>13.0</td>\n",
       "      <td>1130.923077</td>\n",
       "      <td>203.078992</td>\n",
       "      <td>766.0</td>\n",
       "      <td>943.00</td>\n",
       "      <td>1189.0</td>\n",
       "      <td>1258.0</td>\n",
       "      <td>1386.0</td>\n",
       "    </tr>\n",
       "    <tr>\n",
       "      <th>Java</th>\n",
       "      <td>6.0</td>\n",
       "      <td>32.000000</td>\n",
       "      <td>4.774935</td>\n",
       "      <td>28.0</td>\n",
       "      <td>28.5</td>\n",
       "      <td>30.0</td>\n",
       "      <td>35.25</td>\n",
       "      <td>39.0</td>\n",
       "      <td>6.0</td>\n",
       "      <td>1375.833333</td>\n",
       "      <td>104.618195</td>\n",
       "      <td>1228.0</td>\n",
       "      <td>1296.75</td>\n",
       "      <td>1432.0</td>\n",
       "      <td>1449.5</td>\n",
       "      <td>1456.0</td>\n",
       "    </tr>\n",
       "    <tr>\n",
       "      <th>R</th>\n",
       "      <td>13.0</td>\n",
       "      <td>26.384615</td>\n",
       "      <td>2.534379</td>\n",
       "      <td>22.0</td>\n",
       "      <td>24.0</td>\n",
       "      <td>27.0</td>\n",
       "      <td>28.00</td>\n",
       "      <td>29.0</td>\n",
       "      <td>13.0</td>\n",
       "      <td>1055.692308</td>\n",
       "      <td>244.024720</td>\n",
       "      <td>813.0</td>\n",
       "      <td>894.00</td>\n",
       "      <td>912.0</td>\n",
       "      <td>1219.0</td>\n",
       "      <td>1457.0</td>\n",
       "    </tr>\n",
       "    <tr>\n",
       "      <th>SQL</th>\n",
       "      <td>13.0</td>\n",
       "      <td>28.076923</td>\n",
       "      <td>4.348592</td>\n",
       "      <td>22.0</td>\n",
       "      <td>25.0</td>\n",
       "      <td>29.0</td>\n",
       "      <td>31.00</td>\n",
       "      <td>34.0</td>\n",
       "      <td>14.0</td>\n",
       "      <td>1138.285714</td>\n",
       "      <td>257.366075</td>\n",
       "      <td>767.0</td>\n",
       "      <td>843.50</td>\n",
       "      <td>1245.0</td>\n",
       "      <td>1335.5</td>\n",
       "      <td>1453.0</td>\n",
       "    </tr>\n",
       "  </tbody>\n",
       "</table>\n",
       "</div>"
      ],
      "text/plain": [
       "        Age                                                     Salary  \\\n",
       "      count       mean       std   min   25%   50%    75%   max  count   \n",
       "Skill                                                                    \n",
       "C#     12.0  31.250000  4.287932  23.0  28.0  31.0  33.00  38.0   13.0   \n",
       "Java    6.0  32.000000  4.774935  28.0  28.5  30.0  35.25  39.0    6.0   \n",
       "R      13.0  26.384615  2.534379  22.0  24.0  27.0  28.00  29.0   13.0   \n",
       "SQL    13.0  28.076923  4.348592  22.0  25.0  29.0  31.00  34.0   14.0   \n",
       "\n",
       "                                                                         \n",
       "              mean         std     min      25%     50%     75%     max  \n",
       "Skill                                                                    \n",
       "C#     1130.923077  203.078992   766.0   943.00  1189.0  1258.0  1386.0  \n",
       "Java   1375.833333  104.618195  1228.0  1296.75  1432.0  1449.5  1456.0  \n",
       "R      1055.692308  244.024720   813.0   894.00   912.0  1219.0  1457.0  \n",
       "SQL    1138.285714  257.366075   767.0   843.50  1245.0  1335.5  1453.0  "
      ]
     },
     "execution_count": 7,
     "metadata": {},
     "output_type": "execute_result"
    }
   ],
   "source": [
    "#gộp nhóm\n",
    "df.groupby('Skill')[['Age','Salary']].describe()"
   ]
  },
  {
   "cell_type": "code",
   "execution_count": 3,
   "id": "66058c26",
   "metadata": {},
   "outputs": [
    {
     "data": {
      "text/html": [
       "<div>\n",
       "<style scoped>\n",
       "    .dataframe tbody tr th:only-of-type {\n",
       "        vertical-align: middle;\n",
       "    }\n",
       "\n",
       "    .dataframe tbody tr th {\n",
       "        vertical-align: top;\n",
       "    }\n",
       "\n",
       "    .dataframe thead th {\n",
       "        text-align: right;\n",
       "    }\n",
       "</style>\n",
       "<table border=\"1\" class=\"dataframe\">\n",
       "  <thead>\n",
       "    <tr style=\"text-align: right;\">\n",
       "      <th></th>\n",
       "      <th>Age</th>\n",
       "      <th>WorkingYear</th>\n",
       "      <th>Salary</th>\n",
       "      <th>TrainedYear</th>\n",
       "    </tr>\n",
       "  </thead>\n",
       "  <tbody>\n",
       "    <tr>\n",
       "      <th>count</th>\n",
       "      <td>44.000000</td>\n",
       "      <td>45.000000</td>\n",
       "      <td>46.000000</td>\n",
       "      <td>43.000000</td>\n",
       "    </tr>\n",
       "    <tr>\n",
       "      <th>mean</th>\n",
       "      <td>28.977273</td>\n",
       "      <td>4.133333</td>\n",
       "      <td>1143.847826</td>\n",
       "      <td>3.976744</td>\n",
       "    </tr>\n",
       "    <tr>\n",
       "      <th>std</th>\n",
       "      <td>4.406595</td>\n",
       "      <td>1.739906</td>\n",
       "      <td>238.132360</td>\n",
       "      <td>1.318158</td>\n",
       "    </tr>\n",
       "    <tr>\n",
       "      <th>min</th>\n",
       "      <td>22.000000</td>\n",
       "      <td>1.000000</td>\n",
       "      <td>766.000000</td>\n",
       "      <td>2.000000</td>\n",
       "    </tr>\n",
       "    <tr>\n",
       "      <th>25%</th>\n",
       "      <td>26.750000</td>\n",
       "      <td>3.000000</td>\n",
       "      <td>894.250000</td>\n",
       "      <td>3.000000</td>\n",
       "    </tr>\n",
       "    <tr>\n",
       "      <th>50%</th>\n",
       "      <td>28.500000</td>\n",
       "      <td>4.000000</td>\n",
       "      <td>1216.500000</td>\n",
       "      <td>4.000000</td>\n",
       "    </tr>\n",
       "    <tr>\n",
       "      <th>75%</th>\n",
       "      <td>31.000000</td>\n",
       "      <td>5.000000</td>\n",
       "      <td>1347.250000</td>\n",
       "      <td>5.000000</td>\n",
       "    </tr>\n",
       "    <tr>\n",
       "      <th>max</th>\n",
       "      <td>39.000000</td>\n",
       "      <td>7.000000</td>\n",
       "      <td>1457.000000</td>\n",
       "      <td>7.000000</td>\n",
       "    </tr>\n",
       "  </tbody>\n",
       "</table>\n",
       "</div>"
      ],
      "text/plain": [
       "             Age  WorkingYear       Salary  TrainedYear\n",
       "count  44.000000    45.000000    46.000000    43.000000\n",
       "mean   28.977273     4.133333  1143.847826     3.976744\n",
       "std     4.406595     1.739906   238.132360     1.318158\n",
       "min    22.000000     1.000000   766.000000     2.000000\n",
       "25%    26.750000     3.000000   894.250000     3.000000\n",
       "50%    28.500000     4.000000  1216.500000     4.000000\n",
       "75%    31.000000     5.000000  1347.250000     5.000000\n",
       "max    39.000000     7.000000  1457.000000     7.000000"
      ]
     },
     "execution_count": 3,
     "metadata": {},
     "output_type": "execute_result"
    }
   ],
   "source": [
    "df.describe()"
   ]
  },
  {
   "cell_type": "code",
   "execution_count": 3,
   "id": "aa7a6ddc",
   "metadata": {},
   "outputs": [
    {
     "data": {
      "text/plain": [
       "<AxesSubplot:xlabel='Salary', ylabel='WorkingYear'>"
      ]
     },
     "execution_count": 3,
     "metadata": {},
     "output_type": "execute_result"
    },
    {
     "data": {
      "image/png": "[encoded data removed]",
      "text/plain": [
       "<Figure size 640x480 with 1 Axes>"
      ]
     },
     "metadata": {},
     "output_type": "display_data"
    }
   ],
   "source": [
    "sns.scatterplot(x='Salary' , y='WorkingYear' , data=df) #or dung biểu đồ scatter"
   ]
  },
  {
   "cell_type": "code",
   "execution_count": 55,
   "id": "e5666202",
   "metadata": {},
   "outputs": [
    {
     "data": {
      "text/html": [
       "<div>\n",
       "<style scoped>\n",
       "    .dataframe tbody tr th:only-of-type {\n",
       "        vertical-align: middle;\n",
       "    }\n",
       "\n",
       "    .dataframe tbody tr th {\n",
       "        vertical-align: top;\n",
       "    }\n",
       "\n",
       "    .dataframe thead th {\n",
       "        text-align: right;\n",
       "    }\n",
       "</style>\n",
       "<table border=\"1\" class=\"dataframe\">\n",
       "  <thead>\n",
       "    <tr style=\"text-align: right;\">\n",
       "      <th></th>\n",
       "      <th>Salary</th>\n",
       "      <th>WorkingYear</th>\n",
       "    </tr>\n",
       "  </thead>\n",
       "  <tbody>\n",
       "    <tr>\n",
       "      <th>Salary</th>\n",
       "      <td>1.000000</td>\n",
       "      <td>0.566201</td>\n",
       "    </tr>\n",
       "    <tr>\n",
       "      <th>WorkingYear</th>\n",
       "      <td>0.566201</td>\n",
       "      <td>1.000000</td>\n",
       "    </tr>\n",
       "  </tbody>\n",
       "</table>\n",
       "</div>"
      ],
      "text/plain": [
       "               Salary  WorkingYear\n",
       "Salary       1.000000     0.566201\n",
       "WorkingYear  0.566201     1.000000"
      ]
     },
     "execution_count": 55,
     "metadata": {},
     "output_type": "execute_result"
    }
   ],
   "source": [
    "#Đo sự tương quan của trường Salarry và WorkingYear, Salarry và Age\n",
    "df[['Salary','WorkingYear']].corr() #dùng hàm corr()"
   ]
  },
  {
   "cell_type": "code",
   "execution_count": 56,
   "id": "79d9eb68",
   "metadata": {},
   "outputs": [
    {
     "data": {
      "text/html": [
       "<div>\n",
       "<style scoped>\n",
       "    .dataframe tbody tr th:only-of-type {\n",
       "        vertical-align: middle;\n",
       "    }\n",
       "\n",
       "    .dataframe tbody tr th {\n",
       "        vertical-align: top;\n",
       "    }\n",
       "\n",
       "    .dataframe thead th {\n",
       "        text-align: right;\n",
       "    }\n",
       "</style>\n",
       "<table border=\"1\" class=\"dataframe\">\n",
       "  <thead>\n",
       "    <tr style=\"text-align: right;\">\n",
       "      <th></th>\n",
       "      <th>Salary</th>\n",
       "      <th>Age</th>\n",
       "    </tr>\n",
       "  </thead>\n",
       "  <tbody>\n",
       "    <tr>\n",
       "      <th>Salary</th>\n",
       "      <td>1.000000</td>\n",
       "      <td>0.428102</td>\n",
       "    </tr>\n",
       "    <tr>\n",
       "      <th>Age</th>\n",
       "      <td>0.428102</td>\n",
       "      <td>1.000000</td>\n",
       "    </tr>\n",
       "  </tbody>\n",
       "</table>\n",
       "</div>"
      ],
      "text/plain": [
       "          Salary       Age\n",
       "Salary  1.000000  0.428102\n",
       "Age     0.428102  1.000000"
      ]
     },
     "execution_count": 56,
     "metadata": {},
     "output_type": "execute_result"
    }
   ],
   "source": [
    "df[['Salary','Age']].corr()\n"
   ]
  },
  {
   "cell_type": "code",
   "execution_count": 57,
   "id": "604488d0",
   "metadata": {},
   "outputs": [
    {
     "data": {
      "text/plain": [
       "<AxesSubplot:xlabel='Salary', ylabel='Age'>"
      ]
     },
     "execution_count": 57,
     "metadata": {},
     "output_type": "execute_result"
    },
    {
     "data": {
      "image/png": "[encoded data removed]",
      "text/plain": [
       "<Figure size 640x480 with 1 Axes>"
      ]
     },
     "metadata": {},
     "output_type": "display_data"
    }
   ],
   "source": [
    "sns.scatterplot(x='Salary' , y='Age' , data=df) "
   ]
  },
  {
   "cell_type": "code",
   "execution_count": 6,
   "id": "e4b4bb12",
   "metadata": {},
   "outputs": [
    {
     "data": {
      "text/html": [
       "<div>\n",
       "<style scoped>\n",
       "    .dataframe tbody tr th:only-of-type {\n",
       "        vertical-align: middle;\n",
       "    }\n",
       "\n",
       "    .dataframe tbody tr th {\n",
       "        vertical-align: top;\n",
       "    }\n",
       "\n",
       "    .dataframe thead th {\n",
       "        text-align: right;\n",
       "    }\n",
       "</style>\n",
       "<table border=\"1\" class=\"dataframe\">\n",
       "  <thead>\n",
       "    <tr style=\"text-align: right;\">\n",
       "      <th></th>\n",
       "      <th>Salary</th>\n",
       "      <th>TrainedYear</th>\n",
       "      <th>WorkingYear</th>\n",
       "      <th>Age</th>\n",
       "    </tr>\n",
       "  </thead>\n",
       "  <tbody>\n",
       "    <tr>\n",
       "      <th>Salary</th>\n",
       "      <td>1.000000</td>\n",
       "      <td>0.910077</td>\n",
       "      <td>0.566201</td>\n",
       "      <td>0.428102</td>\n",
       "    </tr>\n",
       "    <tr>\n",
       "      <th>TrainedYear</th>\n",
       "      <td>0.910077</td>\n",
       "      <td>1.000000</td>\n",
       "      <td>0.469764</td>\n",
       "      <td>0.397530</td>\n",
       "    </tr>\n",
       "    <tr>\n",
       "      <th>WorkingYear</th>\n",
       "      <td>0.566201</td>\n",
       "      <td>0.469764</td>\n",
       "      <td>1.000000</td>\n",
       "      <td>0.787217</td>\n",
       "    </tr>\n",
       "    <tr>\n",
       "      <th>Age</th>\n",
       "      <td>0.428102</td>\n",
       "      <td>0.397530</td>\n",
       "      <td>0.787217</td>\n",
       "      <td>1.000000</td>\n",
       "    </tr>\n",
       "  </tbody>\n",
       "</table>\n",
       "</div>"
      ],
      "text/plain": [
       "               Salary  TrainedYear  WorkingYear       Age\n",
       "Salary       1.000000     0.910077     0.566201  0.428102\n",
       "TrainedYear  0.910077     1.000000     0.469764  0.397530\n",
       "WorkingYear  0.566201     0.469764     1.000000  0.787217\n",
       "Age          0.428102     0.397530     0.787217  1.000000"
      ]
     },
     "execution_count": 6,
     "metadata": {},
     "output_type": "execute_result"
    }
   ],
   "source": [
    "df[['Salary','TrainedYear','WorkingYear','Age']].corr() \n"
   ]
  },
  {
   "cell_type": "code",
   "execution_count": 8,
   "id": "f82cc637",
   "metadata": {},
   "outputs": [
    {
     "data": {
      "text/html": [
       "<div>\n",
       "<style scoped>\n",
       "    .dataframe tbody tr th:only-of-type {\n",
       "        vertical-align: middle;\n",
       "    }\n",
       "\n",
       "    .dataframe tbody tr th {\n",
       "        vertical-align: top;\n",
       "    }\n",
       "\n",
       "    .dataframe thead th {\n",
       "        text-align: right;\n",
       "    }\n",
       "</style>\n",
       "<table border=\"1\" class=\"dataframe\">\n",
       "  <thead>\n",
       "    <tr style=\"text-align: right;\">\n",
       "      <th></th>\n",
       "      <th>Salary</th>\n",
       "      <th>TrainedYear</th>\n",
       "      <th>WorkingYear</th>\n",
       "      <th>Age</th>\n",
       "    </tr>\n",
       "  </thead>\n",
       "  <tbody>\n",
       "    <tr>\n",
       "      <th>0</th>\n",
       "      <td>894</td>\n",
       "      <td>5.0</td>\n",
       "      <td>5.0</td>\n",
       "      <td>28.0</td>\n",
       "    </tr>\n",
       "  </tbody>\n",
       "</table>\n",
       "</div>"
      ],
      "text/plain": [
       "   Salary  TrainedYear  WorkingYear   Age\n",
       "0     894          5.0          5.0  28.0"
      ]
     },
     "execution_count": 8,
     "metadata": {},
     "output_type": "execute_result"
    }
   ],
   "source": [
    "# giá trị thường xuyên\n",
    "df[['Salary','TrainedYear','WorkingYear','Age']].mode() "
   ]
  },
  {
   "cell_type": "code",
   "execution_count": 4,
   "id": "69f0e730",
   "metadata": {},
   "outputs": [
    {
     "data": {
      "text/plain": [
       "<AxesSubplot:xlabel='Salary', ylabel='Count'>"
      ]
     },
     "execution_count": 4,
     "metadata": {},
     "output_type": "execute_result"
    },
    {
     "data": {
      "image/png": "[encoded data removed]",
      "text/plain": [
       "<Figure size 640x480 with 1 Axes>"
      ]
     },
     "metadata": {},
     "output_type": "display_data"
    }
   ],
   "source": [
    "# vẽ histogram cho cột 'salary'\n",
    "sns.histplot(data=df, x='Salary', bins=10)"
   ]
  },
  {
   "cell_type": "code",
   "execution_count": 4,
   "id": "63703052",
   "metadata": {},
   "outputs": [
    {
     "data": {
      "text/plain": [
       "<AxesSubplot:xlabel='Gender', ylabel='Salary'>"
      ]
     },
     "execution_count": 4,
     "metadata": {},
     "output_type": "execute_result"
    },
    {
     "data": {
      "image/png": "[encoded data removed]",
      "text/plain": [
       "<Figure size 640x480 with 1 Axes>"
      ]
     },
     "metadata": {},
     "output_type": "display_data"
    }
   ],
   "source": [
    "sns.boxplot(data=df, x=\"Gender\", y=\"Salary\")"
   ]
  },
  {
   "cell_type": "code",
   "execution_count": 5,
   "id": "d4b92252",
   "metadata": {},
   "outputs": [
    {
     "data": {
      "text/plain": [
       "<AxesSubplot:xlabel='Salary', ylabel='WorkingYear'>"
      ]
     },
     "execution_count": 5,
     "metadata": {},
     "output_type": "execute_result"
    },
    {
     "data": {
      "image/png": "[encoded data removed]",
      "text/plain": [
       "<Figure size 640x480 with 1 Axes>"
      ]
     },
     "metadata": {},
     "output_type": "display_data"
    }
   ],
   "source": [
    "sns.histplot(data=df, x='Salary' ,y='WorkingYear')\n"
   ]
  },
  {
   "cell_type": "code",
   "execution_count": 7,
   "id": "b978090e",
   "metadata": {},
   "outputs": [
    {
     "data": {
      "text/plain": [
       "<AxesSubplot:xlabel='Age', ylabel='Skill'>"
      ]
     },
     "execution_count": 7,
     "metadata": {},
     "output_type": "execute_result"
    },
    {
     "data": {
      "image/png": "[encoded data removed]",
      "text/plain": [
       "<Figure size 640x480 with 1 Axes>"
      ]
     },
     "metadata": {},
     "output_type": "display_data"
    }
   ],
   "source": [
    "sns.boxplot(data=df, x=\"Age\", y=\"Skill\")"
   ]
  },
  {
   "cell_type": "code",
   "execution_count": 62,
   "id": "c6599b6b",
   "metadata": {},
   "outputs": [
    {
     "data": {
      "text/plain": [
       "<AxesSubplot:xlabel='Age', ylabel='Count'>"
      ]
     },
     "execution_count": 62,
     "metadata": {},
     "output_type": "execute_result"
    },
    {
     "data": {
      "image/png": "[encoded data removed]",
      "text/plain": [
       "<Figure size 640x480 with 1 Axes>"
      ]
     },
     "metadata": {},
     "output_type": "display_data"
    }
   ],
   "source": [
    "sns.histplot(data=df, x='Age')"
   ]
  },
  {
   "cell_type": "code",
   "execution_count": 64,
   "id": "682d624d",
   "metadata": {},
   "outputs": [
    {
     "data": {
      "text/plain": [
       "<AxesSubplot:xlabel='Skill', ylabel='Count'>"
      ]
     },
     "execution_count": 64,
     "metadata": {},
     "output_type": "execute_result"
    },
    {
     "data": {
      "image/png": "[encoded data removed]",
      "text/plain": [
       "<Figure size 640x480 with 1 Axes>"
      ]
     },
     "metadata": {},
     "output_type": "display_data"
    }
   ],
   "source": [
    "sns.histplot(data=df, x='Skill')"
   ]
  },
  {
   "cell_type": "code",
   "execution_count": 10,
   "id": "d2035d06",
   "metadata": {},
   "outputs": [
    {
     "data": {
      "image/png": "[encoded data removed]",
      "text/plain": [
       "<Figure size 2000x800 with 1 Axes>"
      ]
     },
     "metadata": {},
     "output_type": "display_data"
    }
   ],
   "source": [
    "df[['Salary','TrainedYear','WorkingYear','Age']].mean().sort_values(ascending= False).plot(kind='bar')\n",
    "plt.gcf().set_size_inches(20,8)"
   ]
  },
  {
   "cell_type": "code",
   "execution_count": 11,
   "id": "184975d0",
   "metadata": {},
   "outputs": [
    {
     "data": {
      "image/png": "[encoded data removed]",
      "text/plain": [
       "<Figure size 2000x800 with 4 Axes>"
      ]
     },
     "metadata": {},
     "output_type": "display_data"
    }
   ],
   "source": [
    "# vẽ bđ hist\n",
    "df[['Salary','TrainedYear','WorkingYear','Age']].hist()\n",
    "plt.gcf().set_size_inches(20,8)"
   ]
  },
  {
   "cell_type": "code",
   "execution_count": 12,
   "id": "f3c365a0",
   "metadata": {},
   "outputs": [
    {
     "data": {
      "text/plain": [
       "Text(0.5, 1.0, 'Age Histogram')"
      ]
     },
     "execution_count": 12,
     "metadata": {},
     "output_type": "execute_result"
    },
    {
     "data": {
      "image/png": "[encoded data removed]",
      "text/plain": [
       "<Figure size 2000x800 with 1 Axes>"
      ]
     },
     "metadata": {},
     "output_type": "display_data"
    }
   ],
   "source": [
    "df['Age'].hist(bins=300)\n",
    "plt.gcf().set_size_inches(20,8)\n",
    "#để trang trí có thể sửa lại\n",
    "plt.xlabel('Age')\n",
    "plt.ylabel('Frequency')\n",
    "plt.title(\"Age Histogram\")\n"
   ]
  },
  {
   "cell_type": "code",
   "execution_count": 13,
   "id": "12999e68",
   "metadata": {},
   "outputs": [
    {
     "data": {
      "text/plain": [
       "<AxesSubplot:>"
      ]
     },
     "execution_count": 13,
     "metadata": {},
     "output_type": "execute_result"
    },
    {
     "data": {
      "image/png": "[encoded data removed]",
      "text/plain": [
       "<Figure size 640x480 with 1 Axes>"
      ]
     },
     "metadata": {},
     "output_type": "display_data"
    }
   ],
   "source": [
    "# vẽ đồ thị boxplot\n",
    "df[['Salary','TrainedYear','WorkingYear','Age']].plot(kind='box')"
   ]
  },
  {
   "cell_type": "code",
   "execution_count": 15,
   "id": "f76b4362",
   "metadata": {},
   "outputs": [
    {
     "data": {
      "image/png": "[encoded data removed]",
      "text/plain": [
       "<Figure size 1500x800 with 2 Axes>"
      ]
     },
     "metadata": {},
     "output_type": "display_data"
    }
   ],
   "source": [
    "# vẽ bđ hệ số tương quan\n",
    "cor= df[['Salary','TrainedYear','WorkingYear','Age']].corr()\n",
    "# hiển thị chỉ số tương quan\n",
    "sns.heatmap(cor, annot=True, cmap=plt.cm.Reds)\n",
    "plt.gcf().set_size_inches(15,8)"
   ]
  },
  {
   "cell_type": "code",
   "execution_count": null,
   "id": "2c315c99",
   "metadata": {},
   "outputs": [],
   "source": []
  }
 ],
 "metadata": {
  "kernelspec": {
   "display_name": "Python 3 (ipykernel)",
   "language": "python",
   "name": "python3"
  },
  "language_info": {
   "codemirror_mode": {
    "name": "ipython",
    "version": 3
   },
   "file_extension": ".py",
   "mimetype": "text/x-python",
   "name": "python",
   "nbconvert_exporter": "python",
   "pygments_lexer": "ipython3",
   "version": "3.9.13"
  }
 },
 "nbformat": 4,
 "nbformat_minor": 5
}
